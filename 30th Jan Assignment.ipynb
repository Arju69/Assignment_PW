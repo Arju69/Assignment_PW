{
 "cells": [
  {
   "cell_type": "markdown",
   "id": "b62b3ce5",
   "metadata": {},
   "source": [
    "--------------------------Answer 1------------------------------"
   ]
  },
  {
   "cell_type": "code",
   "execution_count": 31,
   "id": "b2c33ba2",
   "metadata": {},
   "outputs": [
    {
     "name": "stdout",
     "output_type": "stream",
     "text": [
      "Enter Your Marks:85\n",
      "Congratulations..Your got Grade B\n"
     ]
    }
   ],
   "source": [
    "marks=int(input(\"Enter Your Marks:\"))\n",
    "\n",
    "if marks>90 and marks<=100:\n",
    "    print(\"Congratulations..Your got Grade A\")\n",
    "elif marks>80 and marks <=90:\n",
    "    print(\"Congratulations..Your got Grade B\")\n",
    "elif marks>=60 and marks<=80:\n",
    "    print(\"Congratulations..Your got Grade C\")\n",
    "elif marks<60:\n",
    "    print(\"Congratulations..Your got Grade D\")\n",
    "else:\n",
    "    print(\"Wrong Input..Please Try again\")"
   ]
  },
  {
   "cell_type": "markdown",
   "id": "40d765f5",
   "metadata": {},
   "source": [
    "---------------------------Answer 2-----------------------------"
   ]
  },
  {
   "cell_type": "code",
   "execution_count": 32,
   "id": "0f0b537a",
   "metadata": {},
   "outputs": [
    {
     "name": "stdout",
     "output_type": "stream",
     "text": [
      "Enter cost price of Bike:5236548\n",
      "Road Tax will be 6022030.2\n"
     ]
    }
   ],
   "source": [
    "cp=float(input(\"Enter cost price of Bike:\"))\n",
    "\n",
    "if cp>100000:\n",
    "    road_tax=(0.15*cp)+cp\n",
    "elif cp<50000 and cp<=100000:\n",
    "    road_tax=(0.15*cp)+cp\n",
    "else:\n",
    "    road_tax=(0.15*cp)+cp\n",
    "print(\"Road Tax will be\",(road_tax))"
   ]
  },
  {
   "cell_type": "markdown",
   "id": "b4dde34c",
   "metadata": {},
   "source": [
    "--------------------------Answer 3------------------------------"
   ]
  },
  {
   "cell_type": "code",
   "execution_count": 34,
   "id": "90ed7779",
   "metadata": {},
   "outputs": [
    {
     "name": "stdout",
     "output_type": "stream",
     "text": [
      "Enter City name to know the Monument:Agra\n",
      "Monument: Taj Mahal\n"
     ]
    }
   ],
   "source": [
    "city=input(\"Enter City name to know the Monument:\")\n",
    "if city =='Delhi':\n",
    "    print(\"Monument: Red Fort\")\n",
    "elif city =='Agra':\n",
    "    print(\"Monument: Taj Mahal\")\n",
    "elif city =='Jaipur':\n",
    "    print(\"Monument: Jal Mahal\")\n",
    "else:\n",
    "    print(\"Please enter between Delhi,Agra and Jaipur\")\n",
    "    "
   ]
  },
  {
   "cell_type": "markdown",
   "id": "bb7f77a7",
   "metadata": {},
   "source": [
    "-----------------------------Answer 4----------------------------"
   ]
  },
  {
   "cell_type": "code",
   "execution_count": 35,
   "id": "1c33e924",
   "metadata": {},
   "outputs": [
    {
     "name": "stdout",
     "output_type": "stream",
     "text": [
      "Please enter the number greater than or equal to 10:15\n",
      "1\n"
     ]
    }
   ],
   "source": [
    "num=int(input(\"Please enter the number greater than or equal to 10:\"))\n",
    "c=0\n",
    "while num:\n",
    "    if num>=10 and num%3==0:\n",
    "        c+=1\n",
    "    num=num/3\n",
    "print(c)\n"
   ]
  },
  {
   "cell_type": "code",
   "execution_count": null,
   "id": "d1a6c6c0",
   "metadata": {},
   "outputs": [],
   "source": [
    "---------------------------Answer 5--------------------------------"
   ]
  },
  {
   "cell_type": "markdown",
   "id": "d9c21288",
   "metadata": {},
   "source": [
    "Python while loop is used to run a block code until a certain condition is met. Here, A while loop evaluates the condition. If the condition evaluates to True , the code inside the while loop is executed.\n",
    "\n",
    "While loop is used when the number of iterations is already Unknown. In the while loop, it can be repeated at every iteration.\n",
    "\n",
    "Ex:\n",
    "n=int(input(\"Enter a number:\"))\n",
    "i=0\n",
    "while i<n:\n",
    "    j=0\n",
    "    while j<n:\n",
    "        print(\"*\",end=\" \")\n",
    "        j+=1\n",
    "    print()\n",
    "    i+=1\n"
   ]
  },
  {
   "cell_type": "markdown",
   "id": "84fd0898",
   "metadata": {},
   "source": [
    "------------------------------- Answer 6-------------------------------"
   ]
  },
  {
   "cell_type": "code",
   "execution_count": 22,
   "id": "c990b7ea",
   "metadata": {},
   "outputs": [
    {
     "name": "stdout",
     "output_type": "stream",
     "text": [
      "Enter a number:4\n",
      "* * * * \n",
      "* * * * \n",
      "* * * * \n",
      "* * * * \n"
     ]
    }
   ],
   "source": [
    "n=int(input(\"Enter a number:\"))\n",
    "i=0\n",
    "while i<n:\n",
    "    j=0\n",
    "    while j<n:\n",
    "        print(\"*\",end=\" \")\n",
    "        j+=1\n",
    "    print()\n",
    "    i+=1"
   ]
  },
  {
   "cell_type": "code",
   "execution_count": 24,
   "id": "943bcd52",
   "metadata": {},
   "outputs": [
    {
     "name": "stdout",
     "output_type": "stream",
     "text": [
      "Enter a number:4\n",
      "* \n",
      "* * \n",
      "* * * \n",
      "* * * * \n"
     ]
    }
   ],
   "source": [
    "n=int(input(\"Enter a number:\"))\n",
    "i=0\n",
    "while i<n:\n",
    "    j=0\n",
    "    while j<=i:\n",
    "        print(\"*\",end=\" \")\n",
    "        j+=1\n",
    "    print()\n",
    "    i+=1"
   ]
  },
  {
   "cell_type": "code",
   "execution_count": 28,
   "id": "ae810969",
   "metadata": {},
   "outputs": [
    {
     "name": "stdout",
     "output_type": "stream",
     "text": [
      "Enter a number:4\n",
      "* * * * \n",
      "* * * \n",
      "* * \n",
      "* \n"
     ]
    }
   ],
   "source": [
    "n=int(input(\"Enter a number:\"))\n",
    "i=0\n",
    "while i<n:\n",
    "    j=0\n",
    "    while j<n-i:\n",
    "        print(\"*\",end=\" \")\n",
    "        j+=1\n",
    "    print()\n",
    "    i+=1"
   ]
  },
  {
   "cell_type": "code",
   "execution_count": null,
   "id": "fd3e02f9",
   "metadata": {},
   "outputs": [],
   "source": [
    "----------------------------Answer 7 and 8: Same question-------------"
   ]
  },
  {
   "cell_type": "code",
   "execution_count": 30,
   "id": "ded2a0fe",
   "metadata": {},
   "outputs": [
    {
     "name": "stdout",
     "output_type": "stream",
     "text": [
      "10\n",
      "9\n",
      "8\n",
      "7\n",
      "6\n",
      "5\n",
      "4\n",
      "3\n",
      "2\n",
      "1\n"
     ]
    }
   ],
   "source": [
    "i=10\n",
    "while i>=1:\n",
    "    print(i)\n",
    "    i-=1"
   ]
  },
  {
   "cell_type": "code",
   "execution_count": null,
   "id": "c5c59d43",
   "metadata": {},
   "outputs": [],
   "source": []
  }
 ],
 "metadata": {
  "kernelspec": {
   "display_name": "Python 3 (ipykernel)",
   "language": "python",
   "name": "python3"
  },
  "language_info": {
   "codemirror_mode": {
    "name": "ipython",
    "version": 3
   },
   "file_extension": ".py",
   "mimetype": "text/x-python",
   "name": "python",
   "nbconvert_exporter": "python",
   "pygments_lexer": "ipython3",
   "version": "3.9.12"
  }
 },
 "nbformat": 4,
 "nbformat_minor": 5
}
