{
 "cells": [
  {
   "cell_type": "code",
   "execution_count": 1,
   "id": "e1298ffe-d694-4731-914c-c88dbb3baafa",
   "metadata": {},
   "outputs": [
    {
     "data": {
      "text/plain": [
       "'3.10.8 | packaged by conda-forge | (main, Nov 22 2022, 08:26:04) [GCC 10.4.0]'"
      ]
     },
     "execution_count": 1,
     "metadata": {},
     "output_type": "execute_result"
    }
   ],
   "source": [
    "#Answer 8:\n",
    "import sys\n",
    "\n",
    "sys.version"
   ]
  },
  {
   "cell_type": "code",
   "execution_count": null,
   "id": "b7f0c1d5-a7ad-44d3-9a40-2a4c1b302e56",
   "metadata": {},
   "outputs": [],
   "source": [
    "1. Guido van Rossum\n",
    "2. Python is an interpreted programming language, which supports object-oriented, structured, and functional programming.\n",
    "3. yes\n",
    "4. .py\n",
    "5. Python code is both compiled and interpreted\n",
    "6. Indentation\n",
    "7. #\n",
    "8. sys.version (we need to import sys)\n",
    "9. lambda\n",
    "10. Preferred Installer Program\n",
    "11. zip(),print(),set(),dict(),chr(),abs(),any() etc\n",
    "12. Any length\n",
    "13. 1.Open source and large active community base \n",
    "    2.Versatile, Easy to read, learn and write\n",
    "    3.User-friendly data structures \n",
    "    4.High-level language \n",
    "    5.Dynamically typed language(No need to mention data type based on the value assigned, it takes data type) \n",
    "    6.Object-Oriented and Procedural  Programming language\n",
    "    7.Portable and Interactive\n",
    "    8.Ideal for prototypes – provide more functionality with less coding\n",
    "    9.Highly Efficient\n",
    "    10.Interpreted Language\n",
    "    11.able to import libraries\n",
    "    \n",
    "14. Memory management in Python involves a private heap containing all Python objects and data structures. The management of this private heap is ensured internally by the Python memory manager. The Python memory manager has different components which deal with various dynamic storage management aspects, like sharing, segmentation, preallocation or caching.\n",
    "\n",
    "15. Install python from this link https://www.python.org/downloads/\n",
    "After this, install it on your PC. Look for the location where PYTHON has been installed on your PC using tge following command on your command prompt: cmd python.\n",
    "Then go to advanced system settings and add new variable and name it as PYTHON_NAME and paste the copied path.\n",
    "Then look for the path variable, select it's value and select edit\n",
    "Add a semicolon towards the end of the value if it's not present and then type %PYTHON_HOME%\n",
    "\n",
    "16. Yes"
   ]
  }
 ],
 "metadata": {
  "kernelspec": {
   "display_name": "Python 3 (ipykernel)",
   "language": "python",
   "name": "python3"
  },
  "language_info": {
   "codemirror_mode": {
    "name": "ipython",
    "version": 3
   },
   "file_extension": ".py",
   "mimetype": "text/x-python",
   "name": "python",
   "nbconvert_exporter": "python",
   "pygments_lexer": "ipython3",
   "version": "3.10.8"
  }
 },
 "nbformat": 4,
 "nbformat_minor": 5
}
