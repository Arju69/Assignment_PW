{
 "cells": [
  {
   "cell_type": "code",
   "execution_count": 4,
   "id": "f18d2e17",
   "metadata": {},
   "outputs": [
    {
     "data": {
      "text/plain": [
       "[1, 3, 5, 7, 9, 11, 13, 15, 17, 19, 21, 23, 25]"
      ]
     },
     "execution_count": 4,
     "metadata": {},
     "output_type": "execute_result"
    }
   ],
   "source": [
    "# Answer 1:\n",
    "# def keyword is used to create a function\n",
    "def oddNumber1to25():\n",
    "    li=[]\n",
    "    for i in range(26):\n",
    "        if i%2!=0:\n",
    "            li.append(i)\n",
    "    return li\n",
    "oddNumber1to25()"
   ]
  },
  {
   "cell_type": "code",
   "execution_count": null,
   "id": "094c0a32",
   "metadata": {},
   "outputs": [],
   "source": [
    "#Answer 2:"
   ]
  },
  {
   "cell_type": "code",
   "execution_count": null,
   "id": "bf7dec3d",
   "metadata": {},
   "outputs": [],
   "source": [
    "''' \n",
    "*args and **kwargs are special keyword which allows function to take variable length argument.\n",
    "*args passes variable number of non-keyworded arguments and on which operation of the tuple can be performed.\n",
    "**kwargs passes variable number of keyword arguments dictionary to function on which operation of a dictionary can be performed.\n",
    "'''"
   ]
  },
  {
   "cell_type": "code",
   "execution_count": 5,
   "id": "90f990b1",
   "metadata": {},
   "outputs": [
    {
     "name": "stdout",
     "output_type": "stream",
     "text": [
      "Sum: 8\n",
      "Sum: 22\n",
      "Sum: 17\n"
     ]
    }
   ],
   "source": [
    "def adder(*num):#*args\n",
    "    sum = 0\n",
    "    \n",
    "    for n in num:\n",
    "        sum = sum + n\n",
    "\n",
    "    print(\"Sum:\",sum)\n",
    "\n",
    "adder(3,5)\n",
    "adder(4,5,6,7)\n",
    "adder(1,2,3,5,6)"
   ]
  },
  {
   "cell_type": "code",
   "execution_count": 1,
   "id": "079e5a2d",
   "metadata": {},
   "outputs": [
    {
     "data": {
      "text/plain": [
       "{'a': [1, 2, 3, 4], 'b': 'PW', 'c': 23.45}"
      ]
     },
     "execution_count": 1,
     "metadata": {},
     "output_type": "execute_result"
    }
   ],
   "source": [
    "def test(**kwargs):\n",
    "    return kwargs\n",
    "\n",
    "test(a = [1,2,3,4] , b = \"PW\" , c = 23.45 )"
   ]
  },
  {
   "cell_type": "code",
   "execution_count": 10,
   "id": "b7fc3738",
   "metadata": {},
   "outputs": [
    {
     "name": "stdout",
     "output_type": "stream",
     "text": [
      "2\n",
      "4\n",
      "6\n",
      "8\n",
      "10\n"
     ]
    }
   ],
   "source": [
    "#Answer 3:\n",
    "'''\n",
    "Iterator in Python is an object that is used to iterate over iterable objects like lists, tuples, dicts, and sets. \n",
    "The iterator object is initialized using the iter() method. It uses the next() method for iteration.\n",
    "'''\n",
    "\n",
    "l=[2, 4, 6, 8, 10, 12, 14, 16, 18, 20]\n",
    "l1=iter(l)\n",
    "def first5(n):\n",
    "    i = 0 \n",
    "    while i < n :\n",
    "        yield l1\n",
    "        i+= 1\n",
    "c=first5(5)\n",
    "for i in c:\n",
    "    print(next(i))"
   ]
  },
  {
   "cell_type": "code",
   "execution_count": 11,
   "id": "af8fb78f",
   "metadata": {},
   "outputs": [
    {
     "data": {
      "text/plain": [
       "generator"
      ]
     },
     "execution_count": 11,
     "metadata": {},
     "output_type": "execute_result"
    }
   ],
   "source": [
    "#Answer4:\n",
    "'''\n",
    "Generators are functions that return an iterable generator object. The values from the generator object are fetched one \n",
    "at a time instead of the full list together and hence to get the actual values you can use a for-loop, using next() method.\n",
    "'''\n",
    "'''\n",
    "The yield keyword in python works like a return with the only difference is that instead of returning a value, \n",
    "it gives back a generator object to the caller.\n",
    "'''\n",
    "\n",
    "def count_test(n):\n",
    "    count = 1 \n",
    "    while count <= n :\n",
    "        yield count\n",
    "        count = count + 1\n",
    "c = count_test(5)\n",
    "type(c)"
   ]
  },
  {
   "cell_type": "code",
   "execution_count": 29,
   "id": "50ecc282",
   "metadata": {},
   "outputs": [
    {
     "name": "stdout",
     "output_type": "stream",
     "text": [
      "2 3 5 7 11 13 17 19 23 29 31 37 41 43 47 53 59 61 67 71 73 "
     ]
    }
   ],
   "source": [
    "#Answer5:\n",
    "\n",
    "def primeNo(n):\n",
    "    k=2\n",
    "    while k<=n:\n",
    "        d=2\n",
    "        flag=False\n",
    "        while d<k:\n",
    "            if k%d==0:\n",
    "                flag=True\n",
    "                break\n",
    "            d+=1\n",
    "        if(not(flag)):\n",
    "            yield k\n",
    "        k+=1\n",
    "c=primeNo(1000)\n",
    "li=[]\n",
    "for i in c:\n",
    "    li.append(i)\n",
    "    \n",
    "l1=iter(li)\n",
    "for i in range(21):\n",
    "    print(next(l1),end=\" \")"
   ]
  },
  {
   "cell_type": "code",
   "execution_count": 33,
   "id": "91549f5e",
   "metadata": {},
   "outputs": [
    {
     "name": "stdout",
     "output_type": "stream",
     "text": [
      "0 1 1 2 3 5 8 13 21 34 "
     ]
    }
   ],
   "source": [
    "#Answer 6:\n",
    "a,b=0,1\n",
    "n=10\n",
    "i=0\n",
    "while i<n:\n",
    "    print(a,end=\" \")\n",
    "    c=a+b\n",
    "    a=b\n",
    "    b=c\n",
    "    i+=1"
   ]
  },
  {
   "cell_type": "code",
   "execution_count": 35,
   "id": "004f6650",
   "metadata": {},
   "outputs": [
    {
     "name": "stdout",
     "output_type": "stream",
     "text": [
      "['p', 'w', 's', 'k', 'i', 'l', 'l', 's']\n"
     ]
    }
   ],
   "source": [
    "#Answer 7:\n",
    "s='pwskills'\n",
    "l=[str(i) for i in s]\n",
    "print(l)\n"
   ]
  },
  {
   "cell_type": "code",
   "execution_count": 48,
   "id": "660a7a09",
   "metadata": {},
   "outputs": [
    {
     "name": "stdout",
     "output_type": "stream",
     "text": [
      "Enter The number:424\n",
      "Palindrome\n"
     ]
    }
   ],
   "source": [
    "#Answer 8:\n",
    "num=int(input(\"Enter The number:\"))\n",
    "\n",
    "def palindrome(num):\n",
    "    temp=num\n",
    "    rev=0\n",
    "    rem=0\n",
    "    while temp:\n",
    "        rem=temp%10\n",
    "        rev=rev*10+rem\n",
    "        temp=temp//10\n",
    "    if(num==rev):\n",
    "        print(\"Palindrome\")\n",
    "    else:\n",
    "        print(\"Not a palindrome\")\n",
    "\n",
    "palindrome(num)"
   ]
  },
  {
   "cell_type": "code",
   "execution_count": 51,
   "id": "78377911",
   "metadata": {},
   "outputs": [
    {
     "data": {
      "text/plain": [
       "[1,\n",
       " 3,\n",
       " 5,\n",
       " 7,\n",
       " 9,\n",
       " 11,\n",
       " 13,\n",
       " 15,\n",
       " 17,\n",
       " 19,\n",
       " 21,\n",
       " 23,\n",
       " 25,\n",
       " 27,\n",
       " 29,\n",
       " 31,\n",
       " 33,\n",
       " 35,\n",
       " 37,\n",
       " 39,\n",
       " 41,\n",
       " 43,\n",
       " 45,\n",
       " 47,\n",
       " 49,\n",
       " 51,\n",
       " 53,\n",
       " 55,\n",
       " 57,\n",
       " 59,\n",
       " 61,\n",
       " 63,\n",
       " 65,\n",
       " 67,\n",
       " 69,\n",
       " 71,\n",
       " 73,\n",
       " 75,\n",
       " 77,\n",
       " 79,\n",
       " 81,\n",
       " 83,\n",
       " 85,\n",
       " 87,\n",
       " 89,\n",
       " 91,\n",
       " 93,\n",
       " 95,\n",
       " 97,\n",
       " 99]"
      ]
     },
     "execution_count": 51,
     "metadata": {},
     "output_type": "execute_result"
    }
   ],
   "source": [
    "#Answer 9:\n",
    "\n",
    "l=[i for i in range(1,101) if i%2!=0]\n",
    "l"
   ]
  },
  {
   "cell_type": "code",
   "execution_count": null,
   "id": "c8d9d841",
   "metadata": {},
   "outputs": [],
   "source": []
  }
 ],
 "metadata": {
  "kernelspec": {
   "display_name": "Python 3 (ipykernel)",
   "language": "python",
   "name": "python3"
  },
  "language_info": {
   "codemirror_mode": {
    "name": "ipython",
    "version": 3
   },
   "file_extension": ".py",
   "mimetype": "text/x-python",
   "name": "python",
   "nbconvert_exporter": "python",
   "pygments_lexer": "ipython3",
   "version": "3.9.12"
  }
 },
 "nbformat": 4,
 "nbformat_minor": 5
}
