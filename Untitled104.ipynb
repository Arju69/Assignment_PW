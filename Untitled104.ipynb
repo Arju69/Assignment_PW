{
 "cells": [
  {
   "cell_type": "code",
   "execution_count": 16,
   "id": "eea987eb",
   "metadata": {},
   "outputs": [
    {
     "data": {
      "text/plain": [
       "172279659957795228284743385088000"
      ]
     },
     "execution_count": 16,
     "metadata": {},
     "output_type": "execute_result"
    }
   ],
   "source": [
    "#Answer1:\n",
    "def returnMul(l):\n",
    "    mul=1\n",
    "    for i in list1:\n",
    "        if type(i)==int or type(i)==float:\n",
    "            mul*=i\n",
    "        if type(i)==list or type(i)==tuple or type==set:\n",
    "            for j in i:\n",
    "                if type(j)==int:\n",
    "                    mul*=j\n",
    "        if type(i)==dict:\n",
    "            for k , v in i.items():\n",
    "                if type(v)==int:\n",
    "                    mul*=v\n",
    "                if type(v)==tuple or type(v)==list:\n",
    "                    for j in v:\n",
    "                        if type(j)==int:\n",
    "                            mul*=j\n",
    "    \n",
    "    return mul\n",
    "\n",
    "list1 = [1,2,3,4, [44,55,66, True], False, (34,56,78,89,34), {1,2,3,3,2,1}, {1:34, \"key2\": [55, 67, 78, 89], 4: (45,\n",
    "22, 61, 34)}, [56, 'data science'], 'Machine Learning']\n",
    "\n",
    "returnMul(list1)  "
   ]
  },
  {
   "cell_type": "code",
   "execution_count": 17,
   "id": "5944338b",
   "metadata": {},
   "outputs": [
    {
     "data": {
      "text/plain": [
       "'i$wznt$to$yexome$z$dztz$sxientist'"
      ]
     },
     "execution_count": 17,
     "metadata": {},
     "output_type": "execute_result"
    }
   ],
   "source": [
    "#Answer2:\n",
    "list1=\"I want to become a Data Scientist\"\n",
    "list1=list1.lower()\n",
    "for i in list1:\n",
    "    if i=='a':\n",
    "        list1=list1.replace(i,'z')\n",
    "    if i==' ':\n",
    "        list1=list1.replace(i,'$')\n",
    "    if i=='b':\n",
    "        list1=list1.replace(i,'y')\n",
    "    if i=='c':\n",
    "        list1=list1.replace(i,'x')\n",
    "list1"
   ]
  },
  {
   "cell_type": "code",
   "execution_count": null,
   "id": "47473908",
   "metadata": {},
   "outputs": [],
   "source": []
  }
 ],
 "metadata": {
  "kernelspec": {
   "display_name": "Python 3 (ipykernel)",
   "language": "python",
   "name": "python3"
  },
  "language_info": {
   "codemirror_mode": {
    "name": "ipython",
    "version": 3
   },
   "file_extension": ".py",
   "mimetype": "text/x-python",
   "name": "python",
   "nbconvert_exporter": "python",
   "pygments_lexer": "ipython3",
   "version": "3.9.12"
  }
 },
 "nbformat": 4,
 "nbformat_minor": 5
}
